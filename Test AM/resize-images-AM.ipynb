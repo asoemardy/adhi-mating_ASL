{
 "cells": [
  {
   "cell_type": "code",
   "execution_count": 1,
   "metadata": {},
   "outputs": [],
   "source": [
    "from PIL import Image, ImageOps\n",
    "import os"
   ]
  },
  {
   "cell_type": "code",
   "execution_count": 7,
   "metadata": {},
   "outputs": [],
   "source": [
    "folder = \"C:/Users/amartin\\Desktop\\Homework\\adhi-mating_ASL\\adhi-mating_ASL\\Test AM\\Images AM\""
   ]
  },
  {
   "cell_type": "code",
   "execution_count": 8,
   "metadata": {},
   "outputs": [],
   "source": [
    "count = 1\n",
    "for folder, subfolder, files in os.walk(folder):\n",
    "    for file in files:\n",
    "        pic = folder + '/' + file\n",
    "        hand_sign = Image.open(pic)\n",
    "        \n",
    "        resized = hand_sign.resize((200,200))\n",
    "        final = ImageOps.grayscale(resized)\n",
    "        \n",
    "        new_folder = folder[:(folder.rfind('/') + 1)] + 'resized pics AM'\n",
    "        final.save(new_folder + '/' + 'resized' + str(count) + '.jpg')\n",
    "        count += 1"
   ]
  },
  {
   "cell_type": "code",
   "execution_count": null,
   "metadata": {},
   "outputs": [],
   "source": []
  }
 ],
 "metadata": {
  "kernelspec": {
   "display_name": "Python 3",
   "language": "python",
   "name": "python3"
  },
  "language_info": {
   "codemirror_mode": {
    "name": "ipython",
    "version": 3
   },
   "file_extension": ".py",
   "mimetype": "text/x-python",
   "name": "python",
   "nbconvert_exporter": "python",
   "pygments_lexer": "ipython3",
   "version": "3.8.3"
  }
 },
 "nbformat": 4,
 "nbformat_minor": 4
}
